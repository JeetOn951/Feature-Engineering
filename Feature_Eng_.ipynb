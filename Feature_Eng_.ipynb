{
  "nbformat": 4,
  "nbformat_minor": 0,
  "metadata": {
    "colab": {
      "provenance": []
    },
    "kernelspec": {
      "name": "python3",
      "display_name": "Python 3"
    },
    "language_info": {
      "name": "python"
    }
  },
  "cells": [
    {
      "cell_type": "markdown",
      "source": [
        "# **Theoritical Questions :**"
      ],
      "metadata": {
        "id": "vt2jKqmqOwMA"
      }
    },
    {
      "cell_type": "markdown",
      "source": [
        "Q1. What is a parameter?\n",
        "- A parameter is a numerical value that defines a characteristic of a population or a model. In machine learning, parameters are internal variables learned from data, such as weights in regression or neural networks.\n",
        "\n",
        "Q2. What is correlation? What does negative correlation mean?\n",
        "- Correlation is a statistical measure that describes the strength and direction of a linear relationship between two variables, ranging from –1 to +1.\n",
        "\n",
        "  Negative correlation means that as one variable increases, the other decreases. For example, the number of hours watching TV may negatively correlate with exam performance.\n",
        "\n",
        "Q3. Define Machine Learning. What are the main components in Machine Learning?\n",
        " - Machine Learning is a branch of Artificial Intelligence where systems learn from data to make predictions or decisions without explicit programming. Main components are:\n",
        "\n",
        "Data\n",
        "\n",
        "Features\n",
        "\n",
        "Model\n",
        "\n",
        "Loss function\n",
        "\n",
        "Optimizer\n",
        "\n",
        "Evaluation metrics\n",
        "\n",
        "\n",
        "\n",
        "Q4. How does loss value help in determining whether the model is good or not?\n",
        "- The loss value indicates the error between predicted and actual outputs. A smaller loss suggests better performance, while a larger loss implies poor predictions.\n",
        "\n",
        "Q5. What are continuous and categorical variables?\n",
        "\n",
        "- Continuous variables: Numeric values within a range (e.g., height, weight, temperature).\n",
        "\n",
        "  Categorical variables: Qualitative values representing categories (e.g., gender, color).\n",
        "\n",
        "Q6. How do we handle categorical variables in Machine Learning? What are the common techniques?\n",
        "- Categorical variables are converted into numerical format using encoding techniques:\n",
        "\n",
        "Label Encoding\n",
        "\n",
        "One-Hot Encoding\n",
        "\n",
        "Ordinal Encoding\n",
        "\n",
        "Target Encoding\n",
        "\n"
      ],
      "metadata": {
        "id": "PtJkRAmtO_cC"
      }
    },
    {
      "cell_type": "markdown",
      "source": [
        "Q7. What do you mean by training and testing a dataset?\n",
        "\n",
        "- Training: Using a portion of the data for the model to learn patterns.\n",
        "\n",
        "Testing: Evaluating model performance on unseen data to check generalization.\n",
        "\n",
        "Q8. What is sklearn.preprocessing?\n",
        "- It is a Scikit-learn module providing functions for data preprocessing such as scaling, normalization, binarization, and encoding categorical variables.\n",
        "\n",
        "Q9. What is a Test set?\n",
        "- A test set is a reserved portion of the dataset used only to evaluate a trained model on unseen data.**bold text**"
      ],
      "metadata": {
        "id": "nSXSFCt64E0d"
      }
    },
    {
      "cell_type": "markdown",
      "source": [
        "Q10. How do we split data for model fitting (training and testing) in Python?\n",
        "How do you approach a Machine Learning problem?\n",
        "\n",
        "\n",
        " - In machine learning, we generally split the dataset into training and testing (sometimes validation) sets.\n",
        "\n",
        "     Training Set → Used to train the model (fit the parameters).\n",
        "\n",
        "     Testing Set → Used to evaluate the performance of the model on unseen data.\n",
        "\n",
        "     (Optional) Validation Set → Used during hyperparameter tuning."
      ],
      "metadata": {
        "id": "31AWLBZH4xkB"
      }
    },
    {
      "cell_type": "code",
      "source": [
        "# Import required libraries\n",
        "from sklearn.datasets import load_iris\n",
        "from sklearn.model_selection import train_test_split\n",
        "\n",
        "# Load sample dataset (Iris flowers dataset)\n",
        "iris = load_iris()\n",
        "X = iris.data        # Features (measurements of flowers)\n",
        "y = iris.target      # Target (flower species)\n",
        "\n",
        "# Split dataset: 80% training and 20% testing\n",
        "X_train, X_test, y_train, y_test = train_test_split(\n",
        "    X, y, test_size=0.2, random_state=42\n",
        ")\n",
        "\n",
        "# Display the shape of splits\n",
        "print(\"Training set size:\", X_train.shape[0])\n",
        "print(\"Testing set size:\", X_test.shape[0])\n"
      ],
      "metadata": {
        "colab": {
          "base_uri": "https://localhost:8080/"
        },
        "id": "QFUG9QEHPy5C",
        "outputId": "14eca09a-4ddb-46ae-e783-25e48ac7078c"
      },
      "execution_count": null,
      "outputs": [
        {
          "output_type": "stream",
          "name": "stdout",
          "text": [
            "Training set size: 120\n",
            "Testing set size: 30\n"
          ]
        }
      ]
    },
    {
      "cell_type": "markdown",
      "source": [
        "\n",
        "\n",
        "Q11. Why do we have to perform EDA before fitting a model to the data?\n",
        "- EDA helps identify distributions, missing values, outliers, and relationships among features, ensuring better preprocessing and model selection.\n",
        "\n",
        "Q12. What is correlation?\n",
        "- Correlation is a statistical measure that describes the strength and direction of a linear relationship between two variables, ranging from –1 to +1.\n",
        "\n",
        "\n",
        "\n",
        "Q13. What does negative correlation mean?\n",
        "-  Negative correlation means that as one variable increases, the other decreases. For example, the number of hours watching TV may negatively correlate with exam performance.\n",
        "\n",
        "Q14. How can you find correlation between variables in Python?\n",
        "\n",
        "\n",
        "- Correlation measures the linear relationship between two variables.\n",
        "\n",
        "  Value ranges from -1 to +1:\n",
        "\n",
        "  +1 → perfect positive correlation\n",
        "\n",
        "  -1 → perfect negative correlation\n",
        "\n",
        "  0 → no correlation\n",
        "\n",
        "  It does not imply causation (cause-effect).\n",
        "\n"
      ],
      "metadata": {
        "id": "xVErtUE1QvC_"
      }
    },
    {
      "cell_type": "code",
      "source": [
        "import pandas as pd\n",
        "import seaborn as sns\n",
        "import matplotlib.pyplot as plt\n",
        "\n",
        "# Sample dataset\n",
        "data = {\n",
        "    'age': [20, 22, 25, 30, 35, 40],\n",
        "    'income': [2000, 2500, 2700, 3500, 4000, 5000],\n",
        "    'spending': [1500, 1600, 1700, 2000, 2200, 2800]\n",
        "}\n",
        "\n",
        "df = pd.DataFrame(data)\n",
        "\n",
        "# Correlation matrix\n",
        "print(\"Correlation Matrix:\")\n",
        "print(df.corr())\n",
        "\n",
        "# Visualization\n",
        "sns.heatmap(df.corr(), annot=True, cmap='coolwarm')\n",
        "plt.show()\n"
      ],
      "metadata": {
        "colab": {
          "base_uri": "https://localhost:8080/",
          "height": 522
        },
        "id": "pUzItG3j6Y1J",
        "outputId": "95d17a5f-3bf3-45fd-a8da-56e834bc339c"
      },
      "execution_count": 1,
      "outputs": [
        {
          "output_type": "stream",
          "name": "stdout",
          "text": [
            "Correlation Matrix:\n",
            "               age    income  spending\n",
            "age       1.000000  0.993537  0.977087\n",
            "income    0.993537  1.000000  0.988615\n",
            "spending  0.977087  0.988615  1.000000\n"
          ]
        },
        {
          "output_type": "display_data",
          "data": {
            "text/plain": [
              "<Figure size 640x480 with 2 Axes>"
            ],
            "image/png": "[encoded data removed]"
          },
          "metadata": {}
        }
      ]
    },
    {
      "cell_type": "markdown",
      "source": [
        "Q15. What is causation? Explain the difference between correlation and causation with an example.\n",
        "\n",
        "\n",
        "- Causation means one variable directly affects another.\n",
        "\n",
        "  Correlation only shows that two variables move together, but it does not prove that one causes the other.\n",
        "\n",
        "  Example:\n",
        "\n",
        "  Correlation: Ice cream sales and drowning deaths are positively correlated (both increase in summer).\n",
        "\n",
        "  Causation: Smoking causes lung cancer (direct effect).\n",
        "\n",
        "\n",
        "\n",
        "Q16. What is an Optimizer? What are different types of optimizers? Explain each with an example.\n",
        "\n",
        "\n",
        "- In Machine Learning/Deep Learning, an optimizer is an algorithm used to update the model’s parameters (weights and biases) to minimize the loss function.\n",
        "\n",
        "   Without optimizers, the model cannot learn patterns from data.\n",
        "\n",
        "   Types of Optimizers\n",
        "\n",
        "  Gradient Descent (GD) – updates weights using full dataset.\n",
        "\n",
        "  Stochastic Gradient Descent (SGD) – updates weights using one sample at a time.\n",
        "\n",
        "  Momentum – adds memory of past gradients to speed up convergence.\n",
        "\n",
        "  AdaGrad – adapts learning rate individually for each parameter (good for sparse data).\n",
        "\n",
        "  RMSProp – balances learning by using moving averages of squared gradients.\n",
        "\n",
        "  Adam – combines Momentum + RMSProp, widely used.\n",
        "\n",
        "  AdamW – Adam with weight decay (better regularization)."
      ],
      "metadata": {
        "id": "rotDJWHN6iia"
      }
    },
    {
      "cell_type": "code",
      "source": [
        "import numpy as np\n",
        "from tensorflow.keras import Sequential, Input\n",
        "from tensorflow.keras.layers import Dense\n",
        "from tensorflow.keras.optimizers import SGD, Adam, RMSprop\n",
        "\n",
        "# ---------------------------------------\n",
        "# 1. Generate Dummy Data\n",
        "# ---------------------------------------\n",
        "# 1000 samples, 10 features each\n",
        "X = np.random.rand(1000, 10)\n",
        "# Binary labels (0 or 1)\n",
        "y = np.random.randint(0, 2, size=(1000,))\n",
        "\n",
        "# ---------------------------------------\n",
        "# 2. Define Model\n",
        "# ---------------------------------------\n",
        "model = Sequential([\n",
        "    Input(shape=(10,)),                # Proper Input layer\n",
        "    Dense(32, activation='relu'),\n",
        "    Dense(1, activation='sigmoid')\n",
        "])\n",
        "\n",
        "# ---------------------------------------\n",
        "# 3. Compile Model with Optimizer\n",
        "# ---------------------------------------\n",
        "# Try changing optimizers: SGD, Adam, RMSprop\n",
        "model.compile(optimizer=Adam(learning_rate=0.001),\n",
        "              loss='binary_crossentropy',\n",
        "              metrics=['accuracy'])\n",
        "\n",
        "# ---------------------------------------\n",
        "# 4. Train Model\n",
        "# ---------------------------------------\n",
        "history = model.fit(X, y,\n",
        "                    epochs=5,           # Train for 5 epochs\n",
        "                    batch_size=32,\n",
        "                    validation_split=0.2,\n",
        "                    verbose=1)\n",
        "\n",
        "# ---------------------------------------\n",
        "# 5. Evaluate Model\n",
        "# ---------------------------------------\n",
        "loss, accuracy = model.evaluate(X, y, verbose=0)\n",
        "print(f\"\\nFinal Loss: {loss:.4f}, Final Accuracy: {accuracy:.4f}\")\n"
      ],
      "metadata": {
        "colab": {
          "base_uri": "https://localhost:8080/"
        },
        "id": "oHSbwlK37lT-",
        "outputId": "ae53873e-657d-40d5-da63-627925485d07"
      },
      "execution_count": 6,
      "outputs": [
        {
          "output_type": "stream",
          "name": "stdout",
          "text": [
            "Epoch 1/5\n",
            "\u001b[1m25/25\u001b[0m \u001b[32m━━━━━━━━━━━━━━━━━━━━\u001b[0m\u001b[37m\u001b[0m \u001b[1m1s\u001b[0m 11ms/step - accuracy: 0.4893 - loss: 0.7100 - val_accuracy: 0.5600 - val_loss: 0.6859\n",
            "Epoch 2/5\n",
            "\u001b[1m25/25\u001b[0m \u001b[32m━━━━━━━━━━━━━━━━━━━━\u001b[0m\u001b[37m\u001b[0m \u001b[1m0s\u001b[0m 4ms/step - accuracy: 0.4943 - loss: 0.6944 - val_accuracy: 0.5450 - val_loss: 0.6873\n",
            "Epoch 3/5\n",
            "\u001b[1m25/25\u001b[0m \u001b[32m━━━━━━━━━━━━━━━━━━━━\u001b[0m\u001b[37m\u001b[0m \u001b[1m0s\u001b[0m 4ms/step - accuracy: 0.4885 - loss: 0.6965 - val_accuracy: 0.5450 - val_loss: 0.6862\n",
            "Epoch 4/5\n",
            "\u001b[1m25/25\u001b[0m \u001b[32m━━━━━━━━━━━━━━━━━━━━\u001b[0m\u001b[37m\u001b[0m \u001b[1m0s\u001b[0m 4ms/step - accuracy: 0.5283 - loss: 0.6900 - val_accuracy: 0.5400 - val_loss: 0.6881\n",
            "Epoch 5/5\n",
            "\u001b[1m25/25\u001b[0m \u001b[32m━━━━━━━━━━━━━━━━━━━━\u001b[0m\u001b[37m\u001b[0m \u001b[1m0s\u001b[0m 4ms/step - accuracy: 0.5119 - loss: 0.6930 - val_accuracy: 0.5450 - val_loss: 0.6869\n",
            "\n",
            "Final Loss: 0.6908, Final Accuracy: 0.5270\n"
          ]
        }
      ]
    },
    {
      "cell_type": "markdown",
      "source": [
        "Q17. What is sklearn.linear_model?\n",
        "\n",
        "\n",
        "- sklearn.linear_model is a module in the Scikit-learn (sklearn) library that provides classes and functions for performing linear models in machine learning. It includes algorithms such as Linear Regression, Logistic Regression, Ridge Regression, Lasso Regression, etc. These models are widely used for solving both regression and classification problems.\n",
        "\n"
      ],
      "metadata": {
        "id": "Ogat1SAj8BJG"
      }
    },
    {
      "cell_type": "markdown",
      "source": [
        "Q18. What does model.fit() do? What arguments must be given?\n",
        "\n",
        "-\n",
        "The model.fit() function is used to train a machine learning model on a given dataset. It takes the input features and corresponding target values, and adjusts the model’s internal parameters to minimize error.\n",
        "\n",
        "Arguments:\n",
        "\n",
        "X → Input features (independent variables).\n",
        "\n",
        "y → Target/output values (dependent variable).\n",
        "\n",
        "\n",
        "example:\n",
        "\n",
        "    model.fit(X_train, y_train)\n"
      ],
      "metadata": {
        "id": "1nc4usoG8Gri"
      }
    },
    {
      "cell_type": "markdown",
      "source": [
        "Q19. What does model.predict() do? What arguments must be given?\n",
        "\n",
        "-\n",
        "The model.predict() function is used to make predictions using the trained model on new, unseen data.\n",
        "\n",
        "Arguments:\n",
        "\n",
        "X → Input features of the data for which predictions are to be made.\n",
        "\n",
        "Example:\n",
        "\n",
        "    y_pred = model.predict(X_test)"
      ],
      "metadata": {
        "id": "bHtzCLxh8VSc"
      }
    },
    {
      "cell_type": "markdown",
      "source": [
        "Q20. What are continuous and categorical variables?\n",
        "\n",
        " -   Continuous Variables:\n",
        "  These are numeric variables that can take any value within a range. Examples: height, weight, temperature, salary.\n",
        "\n",
        "     Categorical Variables: These represent categories or groups and do not have a numeric meaning. Examples: gender (male/female), color (red/blue/green), city names.\n",
        "\n",
        "Q21. What is feature scaling? How does it help in Machine Learning?\n",
        "\n",
        "- Feature Scaling is the process of transforming data so that features lie within a similar range.\n",
        "\n",
        "   Many ML algorithms (like KNN, SVM, Gradient Descent) are sensitive to the scale of input features. If one feature has large values (e.g., salary in thousands) and another has small values (e.g., age), the model may become biased.\n",
        "\n",
        "     Scaling ensures all features contribute equally to the learning process."
      ],
      "metadata": {
        "id": "GlFdjKDt8dVm"
      }
    },
    {
      "cell_type": "markdown",
      "source": [
        "Q22. How do we perform scaling in Python?\n",
        "\n",
        "- Scaling can be performed using the Scikit-learn preprocessing module.\n",
        "\n",
        "  Examples:\n",
        "\n",
        "    from sklearn.preprocessing\n",
        "    \n",
        "    import StandardScaler, MinMaxScaler\n",
        "\n",
        "    scaler = StandardScaler()\n",
        "\n",
        "    X_scaled = scaler.fit_transform(X)\n",
        "\n",
        "    scaler = MinMaxScaler()\n",
        "    \n",
        "    X_scaled = scaler.fit_transform(X)\n",
        "\n",
        "\n",
        "Q23. What is sklearn.preprocessing?\n",
        "\n",
        "- sklearn.preprocessing is a module in Scikit-learn that provides tools for data preprocessing, such as:\n",
        "\n",
        "  Scaling (StandardScaler, MinMaxScaler)\n",
        "\n",
        "  Normalization\n",
        "\n",
        "  Encoding categorical variables (LabelEncoder, OneHotEncoder)\n",
        "\n",
        "  Polynomial feature generation\n",
        "\n",
        "  It helps prepare raw data into a suitable form before applying machine learning models.\n",
        "\n",
        "Q24. How do we split data for model fitting (training and testing) in Python?\n",
        "\n",
        "- We use the train_test_split function from sklearn.model_selection to split the dataset into training and testing sets.\n",
        "\n",
        "  Example:\n",
        "\n",
        "  from sklearn.model_selection import train_test_split\n",
        "\n",
        "  X_train, X_test, y_train, y_test = train_test_split(\n",
        "    X, y, test_size=0.2, random_state=42\n",
        ")\n",
        "\n",
        "\n",
        "   Training set: Used to fit (train) the model.\n",
        "\n",
        "   Testing set: Used to evaluate the model’s performance.\n",
        "\n",
        "   test_size=0.2 means 20% of the data is used for testing.\n",
        "\n",
        "Q25. Explain data encoding.\n",
        "\n",
        "- Data Encoding is the process of converting categorical variables into numerical values so that machine learning algorithms can process them.\n",
        "\n",
        "Since ML models work with numbers, categories like \"Red\", \"Blue\", or \"Green\" must be converted into numeric form.\n",
        "\n",
        "   Types of Encoding:\n",
        "\n",
        "   Label Encoding: Assigns each category a unique integer.\n",
        "   \n",
        "   Example: Red=0, Blue=1, Green=2.\n",
        "\n",
        "    from sklearn.preprocessing import LabelEncoder\n",
        "    encoder = LabelEncoder()\n",
        "    y_encoded = encoder.fit_transform(y)\n",
        "\n",
        "\n",
        "  One-Hot Encoding: Creates separate binary columns for each category.\n",
        "  \n",
        "  Example:  Red=[1,0,0], Blue=[0,1,0], Green=[0,0,1].\n",
        "\n",
        "    from sklearn.preprocessing import OneHotEncoder\n",
        "    encoder = OneHotEncoder()\n",
        "    y_encoded = encoder.fit_transform(y.reshape(-1,1)).toarray()"
      ],
      "metadata": {
        "id": "py_0rziS8197"
      }
    },
    {
      "cell_type": "markdown",
      "source": [],
      "metadata": {
        "id": "GvnOkZW881vV"
      }
    }
  ]
}